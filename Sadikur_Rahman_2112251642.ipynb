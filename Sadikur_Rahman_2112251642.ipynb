{
  "cells": [
    {
      "cell_type": "markdown",
      "metadata": {
        "id": "GtM5evOGsxbm"
      },
      "source": [
       
      ]
    },
    {
      "cell_type": "code",
      "source": [
        "!pip install qiskit[visualization]\n",
        "!pip install qiskit-aer"
      ],
      "metadata": {
        "colab": {
          "base_uri": "https://localhost:8080/"
        },
        "id": "1aIrfDE8xOLt",
        "outputId": "76189244-915a-4136-dec0-534c55666fef"
      },
      "execution_count": 2,
      "outputs": [
        {
          "output_type": "stream",
          "name": "stdout",
          "text": [
            "Collecting qiskit[visualization]\n",
            "  Downloading qiskit-1.2.4-cp38-abi3-manylinux_2_17_x86_64.manylinux2014_x86_64.whl.metadata (12 kB)\n",
            "Collecting rustworkx>=0.15.0 (from qiskit[visualization])\n",
            "  Downloading rustworkx-0.15.1-cp38-abi3-manylinux_2_17_x86_64.manylinux2014_x86_64.whl.metadata (9.9 kB)\n",
            "Requirement already satisfied: numpy<3,>=1.17 in /usr/local/lib/python3.10/dist-packages (from qiskit[visualization]) (1.26.4)\n",
            "Requirement already satisfied: scipy>=1.5 in /usr/local/lib/python3.10/dist-packages (from qiskit[visualization]) (1.13.1)\n",
            "Requirement already satisfied: sympy>=1.3 in /usr/local/lib/python3.10/dist-packages (from qiskit[visualization]) (1.13.1)\n",
            "Collecting dill>=0.3 (from qiskit[visualization])\n",
            "  Downloading dill-0.3.9-py3-none-any.whl.metadata (10 kB)\n",
            "Requirement already satisfied: python-dateutil>=2.8.0 in /usr/local/lib/python3.10/dist-packages (from qiskit[visualization]) (2.8.2)\n",
            "Collecting stevedore>=3.0.0 (from qiskit[visualization])\n",
            "  Downloading stevedore-5.4.0-py3-none-any.whl.metadata (2.3 kB)\n",
            "Requirement already satisfied: typing-extensions in /usr/local/lib/python3.10/dist-packages (from qiskit[visualization]) (4.12.2)\n",
            "Collecting symengine<0.14,>=0.11 (from qiskit[visualization])\n",
            "  Downloading symengine-0.13.0-cp310-cp310-manylinux_2_17_x86_64.manylinux2014_x86_64.whl.metadata (1.2 kB)\n",
            "Requirement already satisfied: matplotlib>=3.3 in /usr/local/lib/python3.10/dist-packages (from qiskit[visualization]) (3.8.0)\n",
            "Requirement already satisfied: pydot in /usr/local/lib/python3.10/dist-packages (from qiskit[visualization]) (3.0.2)\n",
            "Requirement already satisfied: Pillow>=4.2.1 in /usr/local/lib/python3.10/dist-packages (from qiskit[visualization]) (11.0.0)\n",
            "Collecting pylatexenc>=1.4 (from qiskit[visualization])\n",
            "  Downloading pylatexenc-2.10.tar.gz (162 kB)\n",
            "\u001b[2K     \u001b[90m━━━━━━━━━━━━━━━━━━━━━━━━━━━━━━━━━━━━━━━━\u001b[0m \u001b[32m162.6/162.6 kB\u001b[0m \u001b[31m3.1 MB/s\u001b[0m eta \u001b[36m0:00:00\u001b[0m\n",
            "\u001b[?25h  Preparing metadata (setup.py) ... \u001b[?25l\u001b[?25hdone\n",
            "Requirement already satisfied: seaborn>=0.9.0 in /usr/local/lib/python3.10/dist-packages (from qiskit[visualization]) (0.13.2)\n",
            "Requirement already satisfied: contourpy>=1.0.1 in /usr/local/lib/python3.10/dist-packages (from matplotlib>=3.3->qiskit[visualization]) (1.3.1)\n",
            "Requirement already satisfied: cycler>=0.10 in /usr/local/lib/python3.10/dist-packages (from matplotlib>=3.3->qiskit[visualization]) (0.12.1)\n",
            "Requirement already satisfied: fonttools>=4.22.0 in /usr/local/lib/python3.10/dist-packages (from matplotlib>=3.3->qiskit[visualization]) (4.55.0)\n",
            "Requirement already satisfied: kiwisolver>=1.0.1 in /usr/local/lib/python3.10/dist-packages (from matplotlib>=3.3->qiskit[visualization]) (1.4.7)\n",
            "Requirement already satisfied: packaging>=20.0 in /usr/local/lib/python3.10/dist-packages (from matplotlib>=3.3->qiskit[visualization]) (24.2)\n",
            "Requirement already satisfied: pyparsing>=2.3.1 in /usr/local/lib/python3.10/dist-packages (from matplotlib>=3.3->qiskit[visualization]) (3.2.0)\n",
            "Requirement already satisfied: six>=1.5 in /usr/local/lib/python3.10/dist-packages (from python-dateutil>=2.8.0->qiskit[visualization]) (1.16.0)\n",
            "Requirement already satisfied: pandas>=1.2 in /usr/local/lib/python3.10/dist-packages (from seaborn>=0.9.0->qiskit[visualization]) (2.2.2)\n",
            "Collecting pbr>=2.0.0 (from stevedore>=3.0.0->qiskit[visualization])\n",
            "  Downloading pbr-6.1.0-py2.py3-none-any.whl.metadata (3.4 kB)\n",
            "Requirement already satisfied: mpmath<1.4,>=1.1.0 in /usr/local/lib/python3.10/dist-packages (from sympy>=1.3->qiskit[visualization]) (1.3.0)\n",
            "Requirement already satisfied: pytz>=2020.1 in /usr/local/lib/python3.10/dist-packages (from pandas>=1.2->seaborn>=0.9.0->qiskit[visualization]) (2024.2)\n",
            "Requirement already satisfied: tzdata>=2022.7 in /usr/local/lib/python3.10/dist-packages (from pandas>=1.2->seaborn>=0.9.0->qiskit[visualization]) (2024.2)\n",
            "Downloading dill-0.3.9-py3-none-any.whl (119 kB)\n",
            "\u001b[2K   \u001b[90m━━━━━━━━━━━━━━━━━━━━━━━━━━━━━━━━━━━━━━━━\u001b[0m \u001b[32m119.4/119.4 kB\u001b[0m \u001b[31m9.1 MB/s\u001b[0m eta \u001b[36m0:00:00\u001b[0m\n",
            "\u001b[?25hDownloading rustworkx-0.15.1-cp38-abi3-manylinux_2_17_x86_64.manylinux2014_x86_64.whl (2.0 MB)\n",
            "\u001b[2K   \u001b[90m━━━━━━━━━━━━━━━━━━━━━━━━━━━━━━━━━━━━━━━━\u001b[0m \u001b[32m2.0/2.0 MB\u001b[0m \u001b[31m33.4 MB/s\u001b[0m eta \u001b[36m0:00:00\u001b[0m\n",
            "\u001b[?25hDownloading stevedore-5.4.0-py3-none-any.whl (49 kB)\n",
            "\u001b[2K   \u001b[90m━━━━━━━━━━━━━━━━━━━━━━━━━━━━━━━━━━━━━━━━\u001b[0m \u001b[32m49.5/49.5 kB\u001b[0m \u001b[31m3.5 MB/s\u001b[0m eta \u001b[36m0:00:00\u001b[0m\n",
            "\u001b[?25hDownloading symengine-0.13.0-cp310-cp310-manylinux_2_17_x86_64.manylinux2014_x86_64.whl (49.7 MB)\n",
            "\u001b[2K   \u001b[90m━━━━━━━━━━━━━━━━━━━━━━━━━━━━━━━━━━━━━━━━\u001b[0m \u001b[32m49.7/49.7 MB\u001b[0m \u001b[31m18.2 MB/s\u001b[0m eta \u001b[36m0:00:00\u001b[0m\n",
            "\u001b[?25hDownloading qiskit-1.2.4-cp38-abi3-manylinux_2_17_x86_64.manylinux2014_x86_64.whl (4.8 MB)\n",
            "\u001b[2K   \u001b[90m━━━━━━━━━━━━━━━━━━━━━━━━━━━━━━━━━━━━━━━━\u001b[0m \u001b[32m4.8/4.8 MB\u001b[0m \u001b[31m87.0 MB/s\u001b[0m eta \u001b[36m0:00:00\u001b[0m\n",
            "\u001b[?25hDownloading pbr-6.1.0-py2.py3-none-any.whl (108 kB)\n",
            "\u001b[2K   \u001b[90m━━━━━━━━━━━━━━━━━━━━━━━━━━━━━━━━━━━━━━━━\u001b[0m \u001b[32m108.5/108.5 kB\u001b[0m \u001b[31m7.7 MB/s\u001b[0m eta \u001b[36m0:00:00\u001b[0m\n",
            "\u001b[?25hBuilding wheels for collected packages: pylatexenc\n",
            "  Building wheel for pylatexenc (setup.py) ... \u001b[?25l\u001b[?25hdone\n",
            "  Created wheel for pylatexenc: filename=pylatexenc-2.10-py3-none-any.whl size=136816 sha256=7664dee8abdd590e84c0cc50a0e6880f000d041514618b24a36ec548a8f45170\n",
            "  Stored in directory: /root/.cache/pip/wheels/d3/31/8b/e09b0386afd80cfc556c00408c9aeea5c35c4d484a9c762fd5\n",
            "Successfully built pylatexenc\n",
            "Installing collected packages: pylatexenc, symengine, rustworkx, pbr, dill, stevedore, qiskit\n",
            "Successfully installed dill-0.3.9 pbr-6.1.0 pylatexenc-2.10 qiskit-1.2.4 rustworkx-0.15.1 stevedore-5.4.0 symengine-0.13.0\n",
            "Collecting qiskit-aer\n",
            "  Downloading qiskit_aer-0.15.1-cp310-cp310-manylinux_2_17_x86_64.manylinux2014_x86_64.whl.metadata (8.0 kB)\n",
            "Requirement already satisfied: qiskit>=1.1.0 in /usr/local/lib/python3.10/dist-packages (from qiskit-aer) (1.2.4)\n",
            "Requirement already satisfied: numpy>=1.16.3 in /usr/local/lib/python3.10/dist-packages (from qiskit-aer) (1.26.4)\n",
            "Requirement already satisfied: scipy>=1.0 in /usr/local/lib/python3.10/dist-packages (from qiskit-aer) (1.13.1)\n",
            "Requirement already satisfied: psutil>=5 in /usr/local/lib/python3.10/dist-packages (from qiskit-aer) (5.9.5)\n",
            "Requirement already satisfied: rustworkx>=0.15.0 in /usr/local/lib/python3.10/dist-packages (from qiskit>=1.1.0->qiskit-aer) (0.15.1)\n",
            "Requirement already satisfied: sympy>=1.3 in /usr/local/lib/python3.10/dist-packages (from qiskit>=1.1.0->qiskit-aer) (1.13.1)\n",
            "Requirement already satisfied: dill>=0.3 in /usr/local/lib/python3.10/dist-packages (from qiskit>=1.1.0->qiskit-aer) (0.3.9)\n",
            "Requirement already satisfied: python-dateutil>=2.8.0 in /usr/local/lib/python3.10/dist-packages (from qiskit>=1.1.0->qiskit-aer) (2.8.2)\n",
            "Requirement already satisfied: stevedore>=3.0.0 in /usr/local/lib/python3.10/dist-packages (from qiskit>=1.1.0->qiskit-aer) (5.4.0)\n",
            "Requirement already satisfied: typing-extensions in /usr/local/lib/python3.10/dist-packages (from qiskit>=1.1.0->qiskit-aer) (4.12.2)\n",
            "Requirement already satisfied: symengine<0.14,>=0.11 in /usr/local/lib/python3.10/dist-packages (from qiskit>=1.1.0->qiskit-aer) (0.13.0)\n",
            "Requirement already satisfied: six>=1.5 in /usr/local/lib/python3.10/dist-packages (from python-dateutil>=2.8.0->qiskit>=1.1.0->qiskit-aer) (1.16.0)\n",
            "Requirement already satisfied: pbr>=2.0.0 in /usr/local/lib/python3.10/dist-packages (from stevedore>=3.0.0->qiskit>=1.1.0->qiskit-aer) (6.1.0)\n",
            "Requirement already satisfied: mpmath<1.4,>=1.1.0 in /usr/local/lib/python3.10/dist-packages (from sympy>=1.3->qiskit>=1.1.0->qiskit-aer) (1.3.0)\n",
            "Downloading qiskit_aer-0.15.1-cp310-cp310-manylinux_2_17_x86_64.manylinux2014_x86_64.whl (12.3 MB)\n",
            "\u001b[2K   \u001b[90m━━━━━━━━━━━━━━━━━━━━━━━━━━━━━━━━━━━━━━━━\u001b[0m \u001b[32m12.3/12.3 MB\u001b[0m \u001b[31m77.5 MB/s\u001b[0m eta \u001b[36m0:00:00\u001b[0m\n",
            "\u001b[?25hInstalling collected packages: qiskit-aer\n",
            "Successfully installed qiskit-aer-0.15.1\n"
          ]
        }
      ]
    },
    {
      "cell_type": "code",
      "source": [
        "import numpy as np\n",
        "import matplotlib as mpl\n",
        "from qiskit import *\n",
        "from qiskit.quantum_info import Operator, Statevector\n",
        "from qiskit.visualization import array_to_latex, plot_histogram, plot_bloch_multivector,plot_state_qsphere\n",
        "from qiskit_aer import Aer\n",
        "from qiskit.visualization import plot_histogram\n",
        "from qiskit.providers.basic_provider import BasicProvider\n",
        "from IPython.display import Image\n",
        "from qiskit import assemble\n",
        "from qiskit.visualization import plot_state_qsphere"
      ],
      "metadata": {
        "id": "KhOmLtXKxcA8"
      },
      "execution_count": 3,
      "outputs": []
    },
    {
      "cell_type": "code",
      "source": [],
      "metadata": {
        "id": "guvqDqdpxb9X"
      },
      "execution_count": null,
      "outputs": []
    },
    {
      "cell_type": "code",
      "source": [],
      "metadata": {
        "id": "7MuIbwqIxbyq"
      },
      "execution_count": null,
      "outputs": []
    },
    {
      "cell_type": "code",
      "source": [],
      "metadata": {
        "id": "hgkakiVxxbhN"
      },
      "execution_count": null,
      "outputs": []
    },
    {
      "cell_type": "code",
      "execution_count": 22,
      "metadata": {
        "colab": {
          "base_uri": "https://localhost:8080/",
          "height": 339
        },
        "id": "lLehDx62sxbo",
        "outputId": "5c91a3ae-29b1-4fb5-d7fc-4a2b6e35e08b"
      },
      "outputs": [
        {
          "output_type": "display_data",
          "data": {
            "text/plain": [
              "<Figure size 640x480 with 1 Axes>"
            ],
            "image/png": "[encoded data removed]"
          },
          "metadata": {}
        }
      ],
      "source": [
        "#Question 1\n",
        "\n",
        "import qiskit\n",
        "from qiskit import QuantumCircuit, QuantumRegister\n",
        "from qiskit.visualization import plot_bloch_multivector\n",
        "from qiskit.quantum_info import Statevector\n",
        "import matplotlib.pyplot as plt\n",
        "\n",
        "\n",
        "\n",
        "qubits = QuantumRegister(1, name=\"q\")\n",
        "circuit = QuantumCircuit(qubits)\n",
        "\n",
        "state = [1/2**0.5, 1j/2**0.5]  # Normalized superposition state vector +i\n",
        "\n",
        "qc = QuantumCircuit(1)\n",
        "qc.initialize(state, 0)\n",
        "\n",
        "\n",
        "sv = Statevector.from_instruction(qc)\n",
        "fig, (ax1) = plt.subplots(1, 1)\n",
        "plot_bloch_multivector(sv)\n",
        "circuit.measure_all()\n",
        "circuit.draw(output='mpl', ax=ax1)\n",
        "\n",
        "\n",
        "\n",
        "\n"
      ]
    },
    {
      "cell_type": "markdown",
      "metadata": {
        "id": "TuUU3-pysxbp"
      },
      "source": [
        "The above code draws the qubit by using the plot_bloch_multivector function. It is initialized with a qubit state of ny normalizing whichi is down with the help of state function"
      ]
    },
    {
      "cell_type": "code",
      "execution_count": 5,
      "metadata": {
        "colab": {
          "base_uri": "https://localhost:8080/",
          "height": 384
        },
        "id": "fCvouzhFsxbp",
        "outputId": "3c2d3bbf-dfe2-45c9-d53f-c586de051efc"
      },
      "outputs": [
        {
          "output_type": "error",
          "ename": "ModuleNotFoundError",
          "evalue": "No module named 'qiskit_ibm_runtime'",
          "traceback": [
            "\u001b[0;31m---------------------------------------------------------------------------\u001b[0m",
            "\u001b[0;31mModuleNotFoundError\u001b[0m                       Traceback (most recent call last)",
            "\u001b[0;32m<ipython-input-5-3793332c055d>\u001b[0m in \u001b[0;36m<cell line: 3>\u001b[0;34m()\u001b[0m\n\u001b[1;32m      1\u001b[0m \u001b[0;31m#Question 2\u001b[0m\u001b[0;34m\u001b[0m\u001b[0;34m\u001b[0m\u001b[0m\n\u001b[1;32m      2\u001b[0m \u001b[0;32mfrom\u001b[0m \u001b[0mqiskit\u001b[0m\u001b[0;34m.\u001b[0m\u001b[0mtranspiler\u001b[0m\u001b[0;34m.\u001b[0m\u001b[0mpreset_passmanagers\u001b[0m \u001b[0;32mimport\u001b[0m \u001b[0mgenerate_preset_pass_manager\u001b[0m\u001b[0;34m\u001b[0m\u001b[0;34m\u001b[0m\u001b[0m\n\u001b[0;32m----> 3\u001b[0;31m \u001b[0;32mfrom\u001b[0m \u001b[0mqiskit_ibm_runtime\u001b[0m \u001b[0;32mimport\u001b[0m \u001b[0mQiskitRuntimeService\u001b[0m\u001b[0;34m,\u001b[0m \u001b[0mSamplerV2\u001b[0m \u001b[0;32mas\u001b[0m \u001b[0mSampler\u001b[0m\u001b[0;34m\u001b[0m\u001b[0;34m\u001b[0m\u001b[0m\n\u001b[0m\u001b[1;32m      4\u001b[0m \u001b[0;32mfrom\u001b[0m \u001b[0mqiskit\u001b[0m\u001b[0;34m.\u001b[0m\u001b[0mvisualization\u001b[0m \u001b[0;32mimport\u001b[0m \u001b[0mplot_histogram\u001b[0m\u001b[0;34m\u001b[0m\u001b[0;34m\u001b[0m\u001b[0m\n\u001b[1;32m      5\u001b[0m \u001b[0;32mfrom\u001b[0m \u001b[0mqiskit\u001b[0m\u001b[0;34m.\u001b[0m\u001b[0mprimitives\u001b[0m \u001b[0;32mimport\u001b[0m \u001b[0mPrimitiveResult\u001b[0m\u001b[0;34m\u001b[0m\u001b[0;34m\u001b[0m\u001b[0m\n",
            "\u001b[0;31mModuleNotFoundError\u001b[0m: No module named 'qiskit_ibm_runtime'",
            "",
            "\u001b[0;31m---------------------------------------------------------------------------\u001b[0;32m\nNOTE: If your import is failing due to a missing package, you can\nmanually install dependencies using either !pip or !apt.\n\nTo view examples of installing some common dependencies, click the\n\"Open Examples\" button below.\n\u001b[0;31m---------------------------------------------------------------------------\u001b[0m\n"
          ],
          "errorDetails": {
            "actions": [
              {
                "action": "open_url",
                "actionText": "Open Examples",
                "url": "/notebooks/snippets/importing_libraries.ipynb"
              }
            ]
          }
        }
      ],
      "source": [
        "#Question 2\n",
        "from qiskit.transpiler.preset_passmanagers import generate_preset_pass_manager\n",
        "from qiskit_ibm_runtime import QiskitRuntimeService, SamplerV2 as Sampler\n",
        "from qiskit.visualization import plot_histogram\n",
        "from qiskit.primitives import PrimitiveResult\n",
        "\n",
        "qubits = QuantumRegister(3, name=\"q\")\n",
        "circuit = QuantumCircuit (qubits)\n",
        "q0,q1, q2 = qubits\n",
        "circuit.h(q0)\n",
        "circuit.sx(q1)\n",
        "circuit.ccx(q0,q1, q2)\n",
        "circuit.measure_all()\n",
        "circuit.draw(\"mpl\")\n",
        "\n",
        "service = QiskitRuntimeService()\n",
        "backend = service.least_busy(operational=True, simulator=False, min_num_qubits=127)\n",
        "pass_manager = generate_preset_pass_manager(optimization_level=3, backend=backend)\n",
        "isa_circuit = pass_manager. run(circuit)\n",
        "isa_circuit.draw(\"mpl\", idle_wires=False)\n",
        "sampler = Sampler (backend)\n",
        "job = sampler. run ([isa_circuit])\n",
        "job_id = job.job_id()\n",
        "print(job_id)\n"
      ]
    },
    {
      "cell_type": "code",
      "execution_count": 6,
      "metadata": {
        "colab": {
          "base_uri": "https://localhost:8080/",
          "height": 193
        },
        "id": "wtBLOHJrsxbp",
        "outputId": "a04f4d82-2c8d-4f60-b956-91822a828664"
      },
      "outputs": [
        {
          "output_type": "error",
          "ename": "NameError",
          "evalue": "name 'QiskitRuntimeService' is not defined",
          "traceback": [
            "\u001b[0;31m---------------------------------------------------------------------------\u001b[0m",
            "\u001b[0;31mNameError\u001b[0m                                 Traceback (most recent call last)",
            "\u001b[0;32m<ipython-input-6-6ae177841f96>\u001b[0m in \u001b[0;36m<cell line: 2>\u001b[0;34m()\u001b[0m\n\u001b[1;32m      1\u001b[0m \u001b[0mjob_id\u001b[0m \u001b[0;34m=\u001b[0m \u001b[0;34m'cwz86x35v39g008j60yg'\u001b[0m\u001b[0;34m\u001b[0m\u001b[0;34m\u001b[0m\u001b[0m\n\u001b[0;32m----> 2\u001b[0;31m \u001b[0mservice\u001b[0m \u001b[0;34m=\u001b[0m \u001b[0mQiskitRuntimeService\u001b[0m\u001b[0;34m(\u001b[0m\u001b[0;34m)\u001b[0m\u001b[0;34m\u001b[0m\u001b[0;34m\u001b[0m\u001b[0m\n\u001b[0m\u001b[1;32m      3\u001b[0m \u001b[0mjob\u001b[0m \u001b[0;34m=\u001b[0m \u001b[0mservice\u001b[0m\u001b[0;34m.\u001b[0m\u001b[0mjob\u001b[0m\u001b[0;34m(\u001b[0m\u001b[0mjob_id\u001b[0m\u001b[0;34m)\u001b[0m\u001b[0;34m\u001b[0m\u001b[0;34m\u001b[0m\u001b[0m\n\u001b[1;32m      4\u001b[0m \u001b[0mresult\u001b[0m \u001b[0;34m=\u001b[0m \u001b[0mjob\u001b[0m\u001b[0;34m.\u001b[0m\u001b[0mresult\u001b[0m\u001b[0;34m(\u001b[0m\u001b[0;34m)\u001b[0m\u001b[0;34m\u001b[0m\u001b[0;34m\u001b[0m\u001b[0m\n",
            "\u001b[0;31mNameError\u001b[0m: name 'QiskitRuntimeService' is not defined"
          ]
        }
      ],
      "source": [
        "job_id = 'cwz86x35v39g008j60yg'\n",
        "service = QiskitRuntimeService()\n",
        "job = service.job(job_id)\n",
        "result = job.result()\n"
      ]
    },
    {
      "cell_type": "code",
      "execution_count": 7,
      "metadata": {
        "colab": {
          "base_uri": "https://localhost:8080/",
          "height": 211
        },
        "id": "w0bOSlapsxbp",
        "outputId": "902fb1ed-49b4-499e-9d75-f1f0b360ba4a"
      },
      "outputs": [
        {
          "output_type": "error",
          "ename": "NameError",
          "evalue": "name 'result' is not defined",
          "traceback": [
            "\u001b[0;31m---------------------------------------------------------------------------\u001b[0m",
            "\u001b[0;31mNameError\u001b[0m                                 Traceback (most recent call last)",
            "\u001b[0;32m<ipython-input-7-04459fbb0223>\u001b[0m in \u001b[0;36m<cell line: 1>\u001b[0;34m()\u001b[0m\n\u001b[0;32m----> 1\u001b[0;31m \u001b[0mpub_result\u001b[0m \u001b[0;34m=\u001b[0m \u001b[0mresult\u001b[0m\u001b[0;34m[\u001b[0m\u001b[0;36m0\u001b[0m\u001b[0;34m]\u001b[0m\u001b[0;34m\u001b[0m\u001b[0;34m\u001b[0m\u001b[0m\n\u001b[0m\u001b[1;32m      2\u001b[0m \u001b[0mcounts\u001b[0m\u001b[0;34m=\u001b[0m\u001b[0mpub_result\u001b[0m\u001b[0;34m.\u001b[0m\u001b[0mdata\u001b[0m\u001b[0;34m.\u001b[0m\u001b[0mmeas\u001b[0m\u001b[0;34m.\u001b[0m\u001b[0mget_counts\u001b[0m\u001b[0;34m(\u001b[0m\u001b[0;34m)\u001b[0m\u001b[0;34m\u001b[0m\u001b[0;34m\u001b[0m\u001b[0m\n\u001b[1;32m      3\u001b[0m \u001b[0mplot_histogram\u001b[0m\u001b[0;34m(\u001b[0m\u001b[0mcounts\u001b[0m\u001b[0;34m)\u001b[0m\u001b[0;34m\u001b[0m\u001b[0;34m\u001b[0m\u001b[0m\n\u001b[1;32m      4\u001b[0m \u001b[0mtotal_shots\u001b[0m \u001b[0;34m=\u001b[0m \u001b[0msum\u001b[0m\u001b[0;34m(\u001b[0m\u001b[0mcounts\u001b[0m\u001b[0;34m.\u001b[0m\u001b[0mvalues\u001b[0m\u001b[0;34m(\u001b[0m\u001b[0;34m)\u001b[0m\u001b[0;34m)\u001b[0m\u001b[0;34m\u001b[0m\u001b[0;34m\u001b[0m\u001b[0m\n\u001b[1;32m      5\u001b[0m \u001b[0mone_count\u001b[0m \u001b[0;34m=\u001b[0m \u001b[0mcounts\u001b[0m\u001b[0;34m[\u001b[0m\u001b[0;34m'111'\u001b[0m\u001b[0;34m]\u001b[0m\u001b[0;34m\u001b[0m\u001b[0;34m\u001b[0m\u001b[0m\n",
            "\u001b[0;31mNameError\u001b[0m: name 'result' is not defined"
          ]
        }
      ],
      "source": [
        "\n",
        "pub_result = result[0]\n",
        "counts=pub_result.data.meas.get_counts()\n",
        "plot_histogram(counts)\n",
        "total_shots = sum(counts.values())\n",
        "one_count = counts['111']\n",
        "probability_of_1 = one_count / total_shots\n",
        "print(f\"Probability of measuring |1>: {probability_of_1}\")"
      ]
    },
    {
      "cell_type": "markdown",
      "metadata": {
        "id": "y0aRbC1Rsxbp"
      },
      "source": [
        "Till this part of the code, the circuit is first created according to requirement, and then transpiled and using pass manager, the circuit is run in a real quantum device. The result is plotted in a histogram, which represents the probability of each state after measurement."
      ]
    },
    {
      "cell_type": "markdown",
      "metadata": {
        "id": "FzNBlEJDsxbq"
      },
      "source": [
        "In below code we find the unitary matrix to do the operation of the above circuit and apply it again on the circuit."
      ]
    },
    {
      "cell_type": "code",
      "execution_count": 8,
      "metadata": {
        "colab": {
          "base_uri": "https://localhost:8080/"
        },
        "id": "BR1PhBKjsxbq",
        "outputId": "956000ae-b6e7-4e30-861a-e36113a0c39e"
      },
      "outputs": [
        {
          "output_type": "stream",
          "name": "stdout",
          "text": [
            "[[ 0.35355339+0.35355339j  0.35355339+0.35355339j  0.35355339-0.35355339j\n",
            "   0.35355339-0.35355339j  0.        +0.j          0.        +0.j\n",
            "   0.        +0.j          0.        +0.j        ]\n",
            " [ 0.35355339+0.35355339j -0.35355339-0.35355339j  0.35355339-0.35355339j\n",
            "  -0.35355339+0.35355339j  0.        +0.j          0.        +0.j\n",
            "   0.        +0.j          0.        +0.j        ]\n",
            " [ 0.35355339-0.35355339j  0.35355339-0.35355339j  0.35355339+0.35355339j\n",
            "   0.35355339+0.35355339j  0.        +0.j          0.        +0.j\n",
            "   0.        +0.j          0.        +0.j        ]\n",
            " [ 0.        +0.j          0.        +0.j          0.        +0.j\n",
            "   0.        +0.j          0.35355339-0.35355339j -0.35355339+0.35355339j\n",
            "   0.35355339+0.35355339j -0.35355339-0.35355339j]\n",
            " [ 0.        +0.j          0.        +0.j          0.        +0.j\n",
            "   0.        +0.j          0.35355339+0.35355339j  0.35355339+0.35355339j\n",
            "   0.35355339-0.35355339j  0.35355339-0.35355339j]\n",
            " [ 0.        +0.j          0.        +0.j          0.        +0.j\n",
            "   0.        +0.j          0.35355339+0.35355339j -0.35355339-0.35355339j\n",
            "   0.35355339-0.35355339j -0.35355339+0.35355339j]\n",
            " [ 0.        +0.j          0.        +0.j          0.        +0.j\n",
            "   0.        +0.j          0.35355339-0.35355339j  0.35355339-0.35355339j\n",
            "   0.35355339+0.35355339j  0.35355339+0.35355339j]\n",
            " [ 0.35355339-0.35355339j -0.35355339+0.35355339j  0.35355339+0.35355339j\n",
            "  -0.35355339-0.35355339j  0.        +0.j          0.        +0.j\n",
            "   0.        +0.j          0.        +0.j        ]]\n"
          ]
        },
        {
          "output_type": "execute_result",
          "data": {
            "text/plain": [
              "<qiskit.circuit.instructionset.InstructionSet at 0x7a0026d68e20>"
            ]
          },
          "metadata": {},
          "execution_count": 8
        }
      ],
      "source": [
        "from qiskit.quantum_info import Operator\n",
        "\n",
        "circuit = QuantumCircuit(3)\n",
        "\n",
        "circuit.h(0)\n",
        "circuit.sx(1)\n",
        "circuit.ccx(0, 1, 2)\n",
        "unitary_matrix = Operator(circuit).data\n",
        "print(unitary_matrix)\n",
        "circuit.unitary(unitary_matrix, [0,1,2])\n"
      ]
    },
    {
      "cell_type": "code",
      "execution_count": 9,
      "metadata": {
        "colab": {
          "base_uri": "https://localhost:8080/",
          "height": 125
        },
        "id": "anb9qSSUsxbq",
        "outputId": "d5ffa2c2-6f14-4f24-b2f3-72a2ab852ef6"
      },
      "outputs": [
        {
          "output_type": "execute_result",
          "data": {
            "text/plain": [
              "     ┌───┐      ┌──────────┐\n",
              "q_0: ┤ H ├───■──┤0         ├\n",
              "     ├───┴┐  │  │          │\n",
              "q_1: ┤ √X ├──■──┤1 Unitary ├\n",
              "     └────┘┌─┴─┐│          │\n",
              "q_2: ──────┤ X ├┤2         ├\n",
              "           └───┘└──────────┘"
            ],
            "text/html": [
              "<pre style=\"word-wrap: normal;white-space: pre;background: #fff0;line-height: 1.1;font-family: &quot;Courier New&quot;,Courier,monospace\">     ┌───┐      ┌──────────┐\n",
              "q_0: ┤ H ├───■──┤0         ├\n",
              "     ├───┴┐  │  │          │\n",
              "q_1: ┤ √X ├──■──┤1 Unitary ├\n",
              "     └────┘┌─┴─┐│          │\n",
              "q_2: ──────┤ X ├┤2         ├\n",
              "           └───┘└──────────┘</pre>"
            ]
          },
          "metadata": {},
          "execution_count": 9
        }
      ],
      "source": [
        "circuit.draw()"
      ]
    },
    {
      "cell_type": "markdown",
      "metadata": {
        "id": "xxNMGFonsxbq"
      },
      "source": [
        "In below code, we change basis with Y using paulis Y gate."
      ]
    },
    {
      "cell_type": "code",
      "execution_count": 10,
      "metadata": {
        "colab": {
          "base_uri": "https://localhost:8080/"
        },
        "id": "Ox22tViLsxbq",
        "outputId": "b8466ff5-1a6c-4eb6-8bd7-7a935b0b291e"
      },
      "outputs": [
        {
          "output_type": "stream",
          "name": "stdout",
          "text": [
            "Measurement outcomes: {'100': 254, '110': 234, '011': 249, '111': 265, '001': 246, '000': 273, '010': 262, '101': 2313}\n",
            "Probability of measuring |1>: 0.064697265625\n"
          ]
        }
      ],
      "source": [
        "import numpy as np\n",
        "from qiskit_aer import AerSimulator\n",
        "\n",
        "#to change y-basis use pauli y gate (0 -j;j 0)\n",
        "pauli_y_gate = np.array([[0, -1j],\n",
        "                           [1j, 0]])\n",
        "circuit.unitary(pauli_y_gate, [0,1,2], label='pauli_y_gate')\n",
        "circuit.measure_all()\n",
        "circuit.draw()\n",
        "\n",
        "simulator = AerSimulator()\n",
        "\n",
        "result = simulator.run(circuit, shots=4096).result()\n",
        "\n",
        "counts = result.get_counts()\n",
        "\n",
        "print(\"Measurement outcomes:\", counts)\n",
        "total_shots = sum(counts.values())\n",
        "ones = counts['111']\n",
        "probability_of_1 = ones / total_shots\n",
        "print(f\"Probability of measuring |1>: {probability_of_1}\")"
      ]
    },
    {
      "cell_type": "code",
      "execution_count": 11,
      "metadata": {
        "colab": {
          "base_uri": "https://localhost:8080/",
          "height": 156
        },
        "id": "a7TF5vWEsxbq",
        "outputId": "3c0ccd39-ac04-4ba6-c92c-98767058fe86"
      },
      "outputs": [
        {
          "output_type": "execute_result",
          "data": {
            "text/plain": [
              "        ┌───┐      ┌──────────┐┌──────────────┐ ░ ┌─┐      \n",
              "   q_0: ┤ H ├───■──┤0         ├┤ pauli_y_gate ├─░─┤M├──────\n",
              "        ├───┴┐  │  │          │├──────────────┤ ░ └╥┘┌─┐   \n",
              "   q_1: ┤ √X ├──■──┤1 Unitary ├┤ pauli_y_gate ├─░──╫─┤M├───\n",
              "        └────┘┌─┴─┐│          │├──────────────┤ ░  ║ └╥┘┌─┐\n",
              "   q_2: ──────┤ X ├┤2         ├┤ pauli_y_gate ├─░──╫──╫─┤M├\n",
              "              └───┘└──────────┘└──────────────┘ ░  ║  ║ └╥┘\n",
              "meas: 3/═══════════════════════════════════════════╩══╩══╩═\n",
              "                                                   0  1  2 "
            ],
            "text/html": [
              "<pre style=\"word-wrap: normal;white-space: pre;background: #fff0;line-height: 1.1;font-family: &quot;Courier New&quot;,Courier,monospace\">        ┌───┐      ┌──────────┐┌──────────────┐ ░ ┌─┐      \n",
              "   q_0: ┤ H ├───■──┤0         ├┤ pauli_y_gate ├─░─┤M├──────\n",
              "        ├───┴┐  │  │          │├──────────────┤ ░ └╥┘┌─┐   \n",
              "   q_1: ┤ √X ├──■──┤1 Unitary ├┤ pauli_y_gate ├─░──╫─┤M├───\n",
              "        └────┘┌─┴─┐│          │├──────────────┤ ░  ║ └╥┘┌─┐\n",
              "   q_2: ──────┤ X ├┤2         ├┤ pauli_y_gate ├─░──╫──╫─┤M├\n",
              "              └───┘└──────────┘└──────────────┘ ░  ║  ║ └╥┘\n",
              "meas: 3/═══════════════════════════════════════════╩══╩══╩═\n",
              "                                                   0  1  2 </pre>"
            ]
          },
          "metadata": {},
          "execution_count": 11
        }
      ],
      "source": [
        "circuit.draw()"
      ]
    },
    {
      "cell_type": "code",
      "execution_count": 12,
      "metadata": {
        "colab": {
          "base_uri": "https://localhost:8080/",
          "height": 446
        },
        "id": "zr4-_Ft4sxbq",
        "outputId": "89191f03-e11c-44b9-ea11-8771d54b0419"
      },
      "outputs": [
        {
          "output_type": "execute_result",
          "data": {
            "text/plain": [
              "<Figure size 640x480 with 1 Axes>"
            ],
            "image/png": "[encoded data removed]"
          },
          "metadata": {},
          "execution_count": 12
        }
      ],
      "source": [
        "plot_histogram(counts)"
      ]
    },
    {
      "cell_type": "markdown",
      "metadata": {
        "id": "NgfTxTTcsxbq"
      },
      "source": [
        "Change between first circuit and y basis changed is significant. Probability of 101 is highest and |1> has decreased to 0.05, previously 010 was highest, now 101.Which suggests applying the matrix again and applying paulis y-gate has flipped states of each qubit."
      ]
    },
    {
      "cell_type": "markdown",
      "metadata": {
        "id": "G_Nhe-7Msxbr"
      },
      "source": [
        "**#Question 3**\n",
        "\n",
        "Below we find the unitary matrix for z measurement, for problem 2 circuit. As y has been calculated in the previous problem, we can skip it."
      ]
    },
    {
      "cell_type": "code",
      "execution_count": 26,
      "metadata": {
        "colab": {
          "base_uri": "https://localhost:8080/",
          "height": 156
        },
        "id": "dm2qlA6Zsxbr",
        "outputId": "da0c97a4-e87c-4f7a-810c-c86bd5ff273d"
      },
      "outputs": [
        {
          "output_type": "execute_result",
          "data": {
            "text/plain": [
              "         ┌───┐      ┌────────┐ ░ ┌─┐      \n",
              "qubit_0: ┤ H ├───■──┤ Z Gate ├─░─┤M├──────\n",
              "         ├───┴┐  │  ├────────┤ ░ └╥┘┌─┐   \n",
              "qubit_1: ┤ √X ├──■──┤ Z Gate ├─░──╫─┤M├───\n",
              "         └────┘┌─┴─┐├────────┤ ░  ║ └╥┘┌─┐\n",
              "qubit_2: ──────┤ X ├┤ Z Gate ├─░──╫──╫─┤M├\n",
              "               └───┘└────────┘ ░  ║  ║ └╥┘\n",
              " meas: 3/═════════════════════════╩══╩══╩═\n",
              "                                  0  1  2 "
            ],
            "text/html": [
              "<pre style=\"word-wrap: normal;white-space: pre;background: #fff0;line-height: 1.1;font-family: &quot;Courier New&quot;,Courier,monospace\">         ┌───┐      ┌────────┐ ░ ┌─┐      \n",
              "qubit_0: ┤ H ├───■──┤ Z Gate ├─░─┤M├──────\n",
              "         ├───┴┐  │  ├────────┤ ░ └╥┘┌─┐   \n",
              "qubit_1: ┤ √X ├──■──┤ Z Gate ├─░──╫─┤M├───\n",
              "         └────┘┌─┴─┐├────────┤ ░  ║ └╥┘┌─┐\n",
              "qubit_2: ──────┤ X ├┤ Z Gate ├─░──╫──╫─┤M├\n",
              "               └───┘└────────┘ ░  ║  ║ └╥┘\n",
              " meas: 3/═════════════════════════╩══╩══╩═\n",
              "                                  0  1  2 </pre>"
            ]
          },
          "metadata": {},
          "execution_count": 26
        }
      ],
      "source": [
        "\n",
        "\n",
        "# Define a quantum register with three qubits\n",
        "qreg = QuantumRegister(3, name=\"qubit\")\n",
        "qcircuit = QuantumCircuit(qreg)\n",
        "\n",
        "# Assign individual qubits to variables\n",
        "q0, q1, q2 = qreg\n",
        "\n",
        "# Apply quantum gates to the circuit\n",
        "qcircuit.h(q0)  # Hadamard gate on the first qubit\n",
        "qcircuit.sx(q1)  # Sqrt(X) gate on the second qubit\n",
        "qcircuit.ccx(q0, q1, q2)  # Controlled-Controlled-X (Toffoli) gate\n",
        "\n",
        "# Define the Pauli-Z matrix as a unitary\n",
        "pauli_z_matrix = np.array([[1, 0],\n",
        "                           [0, -1]])\n",
        "\n",
        "# Add the unitary gate to the circuit\n",
        "qcircuit.unitary(pauli_z_matrix, [q0, q1, q2], label=\"Z Gate\")\n",
        "\n",
        "# Add measurements to all qubits\n",
        "qcircuit.measure_all()\n",
        "\n",
        "# Set up the quantum simulator\n",
        "sim = AerSimulator()\n",
        "\n",
        "# Execute the circuit on the simulator\n",
        "sim_result = sim.run(qcircuit, shots=4096).result()\n",
        "\n",
        "# Get the measurement outcomes\n",
        "output_counts = sim_result.get_counts()\n",
        "\n",
        "# Display the circuit diagram\n",
        "qcircuit.draw()\n"
      ]
    },
    {
      "cell_type": "code",
      "execution_count": 27,
      "metadata": {
        "colab": {
          "base_uri": "https://localhost:8080/",
          "height": 481
        },
        "id": "ECgUNT29sxbr",
        "outputId": "f08c5fbc-e832-4541-c576-869474df1974"
      },
      "outputs": [
        {
          "output_type": "stream",
          "name": "stdout",
          "text": [
            "Measurement results: {'010': 990, '000': 1051, '111': 1010, '001': 1045}\n",
            "Probability of measuring state |111⟩: 0.2466\n"
          ]
        },
        {
          "output_type": "execute_result",
          "data": {
            "text/plain": [
              "<Figure size 640x480 with 1 Axes>"
            ],
            "image/png": "[encoded data removed]"
          },
          "metadata": {},
          "execution_count": 27
        }
      ],
      "source": [
        "from qiskit.visualization import plot_histogram\n",
        "\n",
        "# Display the measurement results\n",
        "print(\"Measurement results:\", output_counts)\n",
        "\n",
        "# Calculate total shots\n",
        "total_counts = sum(output_counts.values())\n",
        "\n",
        "# Extract the count for the state |111⟩\n",
        "count_111 = output_counts.get('111', 0)  # Use `.get()` to avoid key errors\n",
        "\n",
        "# Calculate the probability of measuring |111⟩\n",
        "probability_111 = count_111 / total_counts\n",
        "print(f\"Probability of measuring state |111⟩: {probability_111:.4f}\")\n",
        "\n",
        "# Plot the histogram of measurement outcomes\n",
        "plot_histogram(output_counts)\n"
      ]
    },
    {
      "cell_type": "markdown",
      "metadata": {
        "id": "DUa59OTAsxbr"
      },
      "source": [
        "After applying z-gate, it has been evenly distributed, with a slight difference."
      ]
    },
    {
      "cell_type": "code",
      "execution_count": 28,
      "metadata": {
        "colab": {
          "base_uri": "https://localhost:8080/",
          "height": 437
        },
        "id": "o8Ky2l3Ksxbr",
        "outputId": "94e9ebcd-4d9c-43f2-f6a7-4ce32cc20eda"
      },
      "outputs": [
        {
          "output_type": "execute_result",
          "data": {
            "text/plain": [
              "<Figure size 640x480 with 1 Axes>"
            ],
            "image/png": "[encoded data removed]"
          },
          "metadata": {},
          "execution_count": 28
        }
      ],
      "source": [
        "#Question 4\n",
        "\n",
        "qc = QuantumCircuit(2, 2)\n",
        "\n",
        "# Apply a Hadamard gate on the first qubit\n",
        "qc.h(0)\n",
        "\n",
        "# Apply a CNOT gate with the first qubit as control and the second as target\n",
        "qc.cx(0, 1)\n",
        "\n",
        "# Add measurement operations\n",
        "qc.measure([0, 1], [0, 1])\n",
        "\n",
        "# Initialize the quantum simulator\n",
        "sim = AerSimulator()\n",
        "\n",
        "# Execute the circuit on the simulator with specified shots\n",
        "sim_result = sim.run(qc, shots=4096).result()\n",
        "\n",
        "measurement_results = sim_result.get_counts()\n",
        "plot_histogram(measurement_results)"
      ]
    },
    {
      "cell_type": "code",
      "execution_count": 29,
      "metadata": {
        "colab": {
          "base_uri": "https://localhost:8080/",
          "height": 125
        },
        "id": "fKNMcCV2sxbr",
        "outputId": "4a3715a3-5af6-48ac-ca17-4a5171de7750"
      },
      "outputs": [
        {
          "output_type": "execute_result",
          "data": {
            "text/plain": [
              "     ┌───┐     ┌─┐   \n",
              "q_0: ┤ H ├──■──┤M├───\n",
              "     └───┘┌─┴─┐└╥┘┌─┐\n",
              "q_1: ─────┤ X ├─╫─┤M├\n",
              "          └───┘ ║ └╥┘\n",
              "c: 2/═══════════╩══╩═\n",
              "                0  1 "
            ],
            "text/html": [
              "<pre style=\"word-wrap: normal;white-space: pre;background: #fff0;line-height: 1.1;font-family: &quot;Courier New&quot;,Courier,monospace\">     ┌───┐     ┌─┐   \n",
              "q_0: ┤ H ├──■──┤M├───\n",
              "     └───┘┌─┴─┐└╥┘┌─┐\n",
              "q_1: ─────┤ X ├─╫─┤M├\n",
              "          └───┘ ║ └╥┘\n",
              "c: 2/═══════════╩══╩═\n",
              "                0  1 </pre>"
            ]
          },
          "metadata": {},
          "execution_count": 29
        }
      ],
      "source": [
        "qc.draw()"
      ]
    },
    {
      "cell_type": "code",
      "execution_count": 17,
      "metadata": {
        "colab": {
          "base_uri": "https://localhost:8080/",
          "height": 211
        },
        "id": "wbEBfsRTsxbr",
        "outputId": "79572ff8-10d7-4338-faa1-f4e0a15ca9e6"
      },
      "outputs": [
        {
          "output_type": "error",
          "ename": "NameError",
          "evalue": "name 'QiskitRuntimeService' is not defined",
          "traceback": [
            "\u001b[0;31m---------------------------------------------------------------------------\u001b[0m",
            "\u001b[0;31mNameError\u001b[0m                                 Traceback (most recent call last)",
            "\u001b[0;32m<ipython-input-17-e6e82a44a50b>\u001b[0m in \u001b[0;36m<cell line: 11>\u001b[0;34m()\u001b[0m\n\u001b[1;32m      9\u001b[0m \u001b[0mcirc\u001b[0m\u001b[0;34m.\u001b[0m\u001b[0mmeasure\u001b[0m\u001b[0;34m(\u001b[0m\u001b[0mqreg\u001b[0m\u001b[0;34m,\u001b[0m \u001b[0mcreg\u001b[0m\u001b[0;34m)\u001b[0m\u001b[0;34m\u001b[0m\u001b[0;34m\u001b[0m\u001b[0m\n\u001b[1;32m     10\u001b[0m \u001b[0;34m\u001b[0m\u001b[0m\n\u001b[0;32m---> 11\u001b[0;31m \u001b[0mservice\u001b[0m \u001b[0;34m=\u001b[0m \u001b[0mQiskitRuntimeService\u001b[0m\u001b[0;34m(\u001b[0m\u001b[0;34m)\u001b[0m\u001b[0;34m\u001b[0m\u001b[0;34m\u001b[0m\u001b[0m\n\u001b[0m\u001b[1;32m     12\u001b[0m \u001b[0mbackend\u001b[0m \u001b[0;34m=\u001b[0m \u001b[0mservice\u001b[0m\u001b[0;34m.\u001b[0m\u001b[0mleast_busy\u001b[0m\u001b[0;34m(\u001b[0m\u001b[0moperational\u001b[0m\u001b[0;34m=\u001b[0m\u001b[0;32mTrue\u001b[0m\u001b[0;34m,\u001b[0m \u001b[0msimulator\u001b[0m\u001b[0;34m=\u001b[0m\u001b[0;32mFalse\u001b[0m\u001b[0;34m,\u001b[0m \u001b[0mmin_num_qubits\u001b[0m\u001b[0;34m=\u001b[0m\u001b[0;36m127\u001b[0m\u001b[0;34m)\u001b[0m\u001b[0;34m\u001b[0m\u001b[0;34m\u001b[0m\u001b[0m\n\u001b[1;32m     13\u001b[0m \u001b[0mpass_manager\u001b[0m \u001b[0;34m=\u001b[0m \u001b[0mgenerate_preset_pass_manager\u001b[0m\u001b[0;34m(\u001b[0m\u001b[0moptimization_level\u001b[0m\u001b[0;34m=\u001b[0m\u001b[0;36m2\u001b[0m\u001b[0;34m,\u001b[0m \u001b[0mbackend\u001b[0m\u001b[0;34m=\u001b[0m\u001b[0mbackend\u001b[0m\u001b[0;34m)\u001b[0m\u001b[0;34m\u001b[0m\u001b[0;34m\u001b[0m\u001b[0m\n",
            "\u001b[0;31mNameError\u001b[0m: name 'QiskitRuntimeService' is not defined"
          ]
        }
      ],
      "source": [
        "from qiskit import ClassicalRegister\n",
        "\n",
        "qreg = QuantumRegister(2, 'q')\n",
        "creg = ClassicalRegister(2, 'c')\n",
        "circ = QuantumCircuit(qreg, creg)\n",
        "\n",
        "circ.h(qreg[0])\n",
        "circ.cx(qreg[0], qreg[1])\n",
        "circ.measure(qreg, creg)\n",
        "\n",
        "service = QiskitRuntimeService()\n",
        "backend = service.least_busy(operational=True, simulator=False, min_num_qubits=127)\n",
        "pass_manager = generate_preset_pass_manager(optimization_level=2, backend=backend)\n",
        "isa_circuit = pass_manager.run(circ)\n",
        "circ.measure([0, 1], [0, 1])\n",
        "isa_circuit.draw(\"mpl\", idle_wires=False)\n",
        "sampler = Sampler (backend)\n",
        "job = sampler. run ([isa_circuit])\n",
        "job_id = job.job_id()\n",
        "print(job_id)\n"
      ]
    },
    {
      "cell_type": "code",
      "execution_count": 18,
      "metadata": {
        "colab": {
          "base_uri": "https://localhost:8080/",
          "height": 193
        },
        "id": "yvlh4yfVsxbr",
        "outputId": "732a279f-ac12-4616-d149-f9e2a3e4869d"
      },
      "outputs": [
        {
          "output_type": "error",
          "ename": "NameError",
          "evalue": "name 'service' is not defined",
          "traceback": [
            "\u001b[0;31m---------------------------------------------------------------------------\u001b[0m",
            "\u001b[0;31mNameError\u001b[0m                                 Traceback (most recent call last)",
            "\u001b[0;32m<ipython-input-18-30f7c0a2fe0b>\u001b[0m in \u001b[0;36m<cell line: 2>\u001b[0;34m()\u001b[0m\n\u001b[1;32m      1\u001b[0m \u001b[0mjob_id\u001b[0m \u001b[0;34m=\u001b[0m \u001b[0;34m'cwz70pjtdtng0087vfjg'\u001b[0m\u001b[0;34m\u001b[0m\u001b[0;34m\u001b[0m\u001b[0m\n\u001b[0;32m----> 2\u001b[0;31m \u001b[0mjob\u001b[0m \u001b[0;34m=\u001b[0m \u001b[0mservice\u001b[0m\u001b[0;34m.\u001b[0m\u001b[0mjob\u001b[0m\u001b[0;34m(\u001b[0m\u001b[0mjob_id\u001b[0m\u001b[0;34m)\u001b[0m\u001b[0;34m\u001b[0m\u001b[0;34m\u001b[0m\u001b[0m\n\u001b[0m\u001b[1;32m      3\u001b[0m \u001b[0mresult\u001b[0m \u001b[0;34m=\u001b[0m \u001b[0mjob\u001b[0m\u001b[0;34m.\u001b[0m\u001b[0mresult\u001b[0m\u001b[0;34m(\u001b[0m\u001b[0;34m)\u001b[0m\u001b[0;34m\u001b[0m\u001b[0;34m\u001b[0m\u001b[0m\n\u001b[1;32m      4\u001b[0m \u001b[0mprint\u001b[0m\u001b[0;34m(\u001b[0m\u001b[0mresult\u001b[0m\u001b[0;34m)\u001b[0m\u001b[0;34m\u001b[0m\u001b[0;34m\u001b[0m\u001b[0m\n",
            "\u001b[0;31mNameError\u001b[0m: name 'service' is not defined"
          ]
        }
      ],
      "source": [
        "job_id = 'cwz70pjtdtng0087vfjg'\n",
        "job = service.job(job_id)\n",
        "result = job.result()\n",
        "print(result)\n"
      ]
    },
    {
      "cell_type": "code",
      "execution_count": 19,
      "metadata": {
        "colab": {
          "base_uri": "https://localhost:8080/",
          "height": 193
        },
        "id": "KKniOPnKsxbr",
        "outputId": "47879f6a-daa4-4986-9102-6b8e6b7b7aef"
      },
      "outputs": [
        {
          "output_type": "error",
          "ename": "TypeError",
          "evalue": "'Result' object is not subscriptable",
          "traceback": [
            "\u001b[0;31m---------------------------------------------------------------------------\u001b[0m",
            "\u001b[0;31mTypeError\u001b[0m                                 Traceback (most recent call last)",
            "\u001b[0;32m<ipython-input-19-fc281af445ec>\u001b[0m in \u001b[0;36m<cell line: 1>\u001b[0;34m()\u001b[0m\n\u001b[0;32m----> 1\u001b[0;31m \u001b[0mbit_array\u001b[0m \u001b[0;34m=\u001b[0m \u001b[0mresult\u001b[0m\u001b[0;34m[\u001b[0m\u001b[0;36m0\u001b[0m\u001b[0;34m]\u001b[0m\u001b[0;34m.\u001b[0m\u001b[0mdata\u001b[0m\u001b[0;34m.\u001b[0m\u001b[0mc\u001b[0m\u001b[0;34m\u001b[0m\u001b[0;34m\u001b[0m\u001b[0m\n\u001b[0m\u001b[1;32m      2\u001b[0m \u001b[0mcounts\u001b[0m \u001b[0;34m=\u001b[0m \u001b[0mbit_array\u001b[0m\u001b[0;34m.\u001b[0m\u001b[0mget_counts\u001b[0m\u001b[0;34m(\u001b[0m\u001b[0;34m)\u001b[0m\u001b[0;34m\u001b[0m\u001b[0;34m\u001b[0m\u001b[0m\n\u001b[1;32m      3\u001b[0m \u001b[0;34m\u001b[0m\u001b[0m\n\u001b[1;32m      4\u001b[0m \u001b[0mplot_histogram\u001b[0m\u001b[0;34m(\u001b[0m\u001b[0mcounts\u001b[0m\u001b[0;34m)\u001b[0m\u001b[0;34m\u001b[0m\u001b[0;34m\u001b[0m\u001b[0m\n",
            "\u001b[0;31mTypeError\u001b[0m: 'Result' object is not subscriptable"
          ]
        }
      ],
      "source": [
        "bit_array = result[0].data.c\n",
        "counts = bit_array.get_counts()\n",
        "\n",
        "plot_histogram(counts)"
      ]
    },
    {
      "cell_type": "markdown",
      "metadata": {
        "id": "8dBhY-4esxbs"
      },
      "source": [
        "First we created the circuit according to the question and ran first in simulator and then in real quantum device. For simulator, only 00 and 11 state is possible while for real quantum due to noise at 01 and 10 values were observed as well. For simulator both states are equally probable, while for real quantum 00 state is less probable."
      ]
    },
    {
      "cell_type": "code",
      "execution_count": 31,
      "metadata": {
        "id": "UVVkQQvCsxbs"
      },
      "outputs": [],
      "source": [
        "## Question 5\n",
        "\n",
        "\n",
        "# Define the simulator\n",
        "sim = AerSimulator()\n",
        "\n",
        "# Function to generate a quantum circuit for a specified basis\n",
        "def generate_circuit(basis_type):\n",
        "    qc = QuantumCircuit(1, 1)\n",
        "    qc.h(0)\n",
        "    qc.sdg(0)\n",
        "    if basis_type == 'X':\n",
        "        qc.h(0)  # Apply an additional Hadamard gate for X-basis\n",
        "    qc.measure(0, 0)\n",
        "    return qc\n",
        "\n",
        "# Initialize results dictionary\n",
        "measurement_results = {}\n",
        "\n",
        "# Create and simulate circuits for each basis\n",
        "for basis_type in ['X', 'Y', 'Z']:\n",
        "    basis_circuit = generate_circuit(basis_type)\n",
        "    simulation_result = sim.run(basis_circuit, shots=4096).result()\n",
        "    measurement_results[basis_type] = simulation_result.get_counts()\n",
        "\n",
        "# Plot histograms for each basis\n",
        "for basis_type, result_counts in measurement_results.items():\n",
        "    plot_histogram(result_counts, title=f\"Measurements in {basis_type} Basis\").show()\n",
        "\n"
      ]
    },
    {
      "cell_type": "code",
      "execution_count": 32,
      "metadata": {
        "colab": {
          "base_uri": "https://localhost:8080/"
        },
        "id": "UzSZwLbxsxbs",
        "outputId": "cba5a5ad-5985-4e60-e320-4cd5621a3a34"
      },
      "outputs": [
        {
          "output_type": "stream",
          "name": "stdout",
          "text": [
            "Corrected Measurement Results: {'0': 4096}\n"
          ]
        }
      ],
      "source": [
        "\n",
        "\n",
        "# Define a function to construct the error correction circuit\n",
        "def build_error_correction_circuit():\n",
        "    circuit = QuantumCircuit(3, 1)\n",
        "    circuit.cx(0, 1)\n",
        "    circuit.cx(0, 2)\n",
        "    circuit.x(1)  # Simulating an error\n",
        "    circuit.cx(0, 1)\n",
        "    circuit.cx(0, 2)\n",
        "    circuit.ccx(1, 2, 0)\n",
        "    circuit.measure(0, 0)\n",
        "    return circuit\n",
        "\n",
        "# Create the error correction circuit\n",
        "correction_circuit = build_error_correction_circuit()\n",
        "\n",
        "# Initialize the quantum simulator\n",
        "sim = AerSimulator()\n",
        "\n",
        "# Execute the circuit\n",
        "simulation_result = sim.run(correction_circuit, shots=4096).result()\n",
        "\n",
        "# Get the measurement results\n",
        "corrected_counts = simulation_result.get_counts()\n",
        "\n",
        "# Display results and plot the histogram\n",
        "print(\"Corrected Measurement Results:\", corrected_counts)\n",
        "plot_histogram(corrected_counts, title=\"Error-Corrected Results\").show()\n"
      ]
    },
    {
      "cell_type": "markdown",
      "metadata": {
        "id": "i_OU1B9Hsxbs"
      },
      "source": [
        "In the 3-qubit repetition code, the logical qubit's state |𝜓>=|𝛼>0\n",
        "> +β|1> is encoded into an entangled state 𝛼|000> + β|111>  using CNOT gates. A bit-flip error X gate is applied to simulate noise, flipping the state of a qubit. Decoding involves checking parity with CNOT gates and using a Toffoli (CCX) gate for majority voting, ensuring the logical qubit reflects the majority state of the physical qubits. Finally, the logical qubit is measured, yielding the corrected result."
      ]
    }
  ],
  "metadata": {
    "kernelspec": {
      "display_name": "Python 3",
      "language": "python",
      "name": "python3"
    },
    "language_info": {
      "codemirror_mode": {
        "name": "ipython",
        "version": 3
      },
      "file_extension": ".py",
      "mimetype": "text/x-python",
      "name": "python",
      "nbconvert_exporter": "python",
      "pygments_lexer": "ipython3",
      "version": "3.13.0"
    },
    "colab": {
      "provenance": []
    }
  },
  "nbformat": 4,
  "nbformat_minor": 0
}
